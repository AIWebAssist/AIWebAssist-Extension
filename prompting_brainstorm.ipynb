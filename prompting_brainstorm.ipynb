{
  "nbformat": 4,
  "nbformat_minor": 0,
  "metadata": {
    "colab": {
      "provenance": [],
      "authorship_tag": "ABX9TyONdHv5vKtxiAwFTjLiRv7+",
      "include_colab_link": true
    },
    "kernelspec": {
      "name": "python3",
      "display_name": "Python 3"
    },
    "language_info": {
      "name": "python"
    }
  },
  "cells": [
    {
      "cell_type": "markdown",
      "metadata": {
        "id": "view-in-github",
        "colab_type": "text"
      },
      "source": [
        "<a href=\"https://colab.research.google.com/github/erlichsefi/ScrapAnything/blob/main/prompting_brainstorm.ipynb\" target=\"_parent\"><img src=\"https://colab.research.google.com/assets/colab-badge.svg\" alt=\"Open In Colab\"/></a>"
      ]
    },
    {
      "cell_type": "code",
      "execution_count": null,
      "metadata": {
        "id": "CgQDGRwxqnVo"
      },
      "outputs": [],
      "source": [
        "\n",
        "\n",
        "task = \"I would like to find a group called \\\"MDIL\\\", respond with one of the numbers above and I will click it, only write the number\"\n",
        "\n",
        "settings = \"\"\"\n",
        "Here is the side menu:\n",
        "\n",
        "1. Profile picture next to \"Sefi Erlich\"\n",
        "2. Two-person symbol next to \"Friends\"\n",
        "3. click next to \"Most recent\"\n",
        "4. Three-person symbol next to \"Group\"\n",
        "5. Small house icon next to \"Marketplace\"\n",
        "6. Small screen next to \"Watch\"\n",
        "7. Arrow down next to \"see more\"\n",
        "\n",
        "----\n",
        "Your shortcuts\n",
        "8. Some Icon next to \"supertools\" \n",
        "9. some icon next to \"DataHack\"\n",
        "10. Arrow down next to \"see more\"\n",
        "\n",
        "\"\"\"\n",
        "\n",
        "\n"
      ]
    }
  ]
}