{
  "nbformat": 4,
  "nbformat_minor": 0,
  "metadata": {
    "colab": {
      "provenance": [],
      "authorship_tag": "ABX9TyMJtjFWZ0KEOiCz6/hmkC18",
      "include_colab_link": true
    },
    "kernelspec": {
      "name": "python3",
      "display_name": "Python 3"
    },
    "language_info": {
      "name": "python"
    }
  },
  "cells": [
    {
      "cell_type": "markdown",
      "metadata": {
        "id": "view-in-github",
        "colab_type": "text"
      },
      "source": [
        "<a href=\"https://colab.research.google.com/github/erlichsefi/ScrapAnything/blob/main/prompting_brainstorm.ipynb\" target=\"_parent\"><img src=\"https://colab.research.google.com/assets/colab-badge.svg\" alt=\"Open In Colab\"/></a>"
      ]
    },
    {
      "cell_type": "code",
      "execution_count": null,
      "metadata": {
        "id": "CgQDGRwxqnVo"
      },
      "outputs": [],
      "source": [
        "\n",
        "task = \"I would like to post new post on the MLDI group, the text should be \\\"eliran is the king!\\\"\"\n",
        "\n",
        "how_to_respond = \"respond with one of the numbers above and I will click it, only write the number.\"\n",
        "\n",
        "left_on_screen = \"\"\"\n",
        "1. Profile picture next to \"Sefi Erlich\" (LINK)\n",
        "2. Two-person symbol next to \"Friends\" (LINK)\n",
        "3. Paper with clock symbol to \"Most recent\" (LINK)\n",
        "4. Three-person symbol  next to \"Group\" (LINK)\n",
        "5. Small house icon next to \"Marketplace\" (LINK)\n",
        "6. Small TV next to \"Watch\" (LINK)\n",
        "7. Arrow down next to \"see more\" (LINK)\n",
        "\n",
        "----\n",
        "Your shortcuts\n",
        "8. unknown Icon next to \"אוניברסיטת אריאל-צריכים משהו\" (LINK)\n",
        "9. unknown Icon next to \"טביעת אצבע - סטודיו ליציקות גוף\" (LINK)\n",
        "10. unknown Icon next to \"supertools\" (LINK)\n",
        "11. unknown Icon next to \"הסטודנטים\" (LINK)\n",
        "\n",
        "\"\"\"\n",
        "\n",
        "center_on_screen = \"\"\"\n",
        "\n",
        "\n",
        "\n",
        "\"\"\"\n",
        "\n",
        "final_prompt = f\"on the left side of the screen: {left_on_screen}\" +\n",
        "                 task + how_to_respond\n",
        "\n",
        "\n",
        "\n",
        "\n"
      ]
    },
    {
      "cell_type": "code",
      "source": [
        "// Get all elements in the HTML page\\\n",
        "const elements = document.getElementsByTagName('*');\n",
        "\n",
        "// Create an array to store the element details\n",
        "const elementDetails = [];\n",
        "\n",
        "// Iterate through each element\n",
        "for (let i = 0; i < elements.length; i++) {\n",
        "  const element = elements[i];\n",
        "\n",
        "  // Get the bounding rectangle of the element\n",
        "  const rect = element.getBoundingClientRect();\n",
        "\n",
        "  // Get the text content of the element\n",
        "  const textContent = element.textContent.trim();\n",
        "\n",
        "  // Get the tooltip value if it exists\n",
        "  const tooltip = element.hasAttribute('title') ? element.getAttribute('title') : '';\n",
        "\n",
        "  // Store the element, its bounding rectangle, text content, and tooltip details\n",
        "  const elementInfo = {\n",
        "    element: element,\n",
        "    rect: rect,\n",
        "    textContent: textContent,\n",
        "    ariaLabel: element.hasAttribute('aria-label') ? element.getAttribute('aria-label') : '',\n",
        "    tooltip: tooltip,\n",
        "    e_type: element.nodeName\n",
        "  };\n",
        "  if (elementInfo.rect.width > 0 && elementInfo.rect.height > 0){\n",
        "  // Add the element details to the array\n",
        "   if (elementInfo.tooltip != '' || elementInfo.textContent != '' || elementInfo.ariaLabel != '')\n",
        "    elementDetails.push(elementInfo);\n",
        "  }\n",
        "}\n",
        "\n",
        "let parents = elementDetails.map(e=>e.element.parentElement)\n",
        "let withoutParents = elementDetails.filter(elementDetail=> !parents.includes(elementDetail.element))\n",
        "\n",
        "// Display the element details\n",
        "console.log(\"X,Y,Width,Height,ElementType,textContent,TooltipValue,AriaLabel\")\n",
        "console.log(withoutParents.map( e=> e.rect.x+\",\"+e.rect.y+\",\"+e.rect.width+\",\"+e.rect.height+\",\"+e.e_type+\",\"+e.rect.textContent+\",\"+e.tooltip+\",\"+e.ariaLabel).join(\"\\n\"));"
      ],
      "metadata": {
        "id": "5-d-oX-x1ZpP"
      },
      "execution_count": null,
      "outputs": []
    },
    {
      "cell_type": "code",
      "source": [
        "\n",
        "on_screen_data = \"\"\"\n",
        "X,Y,Width,Height,ElementType,textContent,TooltipValue,AriaLabel\n",
        "VM1301:41 464.40625,18,33.953125,24,A,undefined,,Gmail (opens a new tab)\n",
        "513.359375,18,42.640625,24,A,undefined,,Search for Images (opens a new tab)\n",
        "575,10,40,40,A,undefined,,Google apps\n",
        "623,10,40,40,A,undefined,,Google Account: Sefi Erlich  \n",
        "(erlichsefi@gmail.com)\n",
        "202.5,258,272,92,DIV,undefined,,\n",
        "61.5,377,33,46,DIV,undefined,,\n",
        "94.5,388,443,27,TEXTAREA,undefined,Search,Search\n",
        "541.5,377,40,44,DIV,undefined,,Search by voice\n",
        "581.5,377,40,44,DIV,undefined,,Search by image\n",
        "197.59375,453,127.40625,36,INPUT,undefined,,Google Search\n",
        "336.890625,453,142.5,36,INPUT,undefined,,I'm Feeling Lucky\n",
        "353.953125,516,38.109375,15,A,undefined,,\n",
        "395.6875,516,34.09375,15,A,undefined,,\n",
        "0,875,677,48,DIV,undefined,,\n",
        "24.328125,923,66.59375,46,A,undefined,,\n",
        "90.921875,923,99.265625,46,A,undefined,,\n",
        "190.1875,923,86.8125,46,A,undefined,,\n",
        "277,923,146.703125,46,A,undefined,,\n",
        "428.03125,923,75.90625,46,A,undefined,,\n",
        "503.9375,923,68.125,46,A,undefined,,\n",
        "572.0625,923,80.59375,46,DIV,undefined,,\n",
        "\"\"\""
      ],
      "metadata": {
        "id": "m5yxi3fK9UI0"
      },
      "execution_count": null,
      "outputs": []
    },
    {
      "cell_type": "markdown",
      "source": [],
      "metadata": {
        "id": "sU2wbBy58rjR"
      }
    }
  ]
}