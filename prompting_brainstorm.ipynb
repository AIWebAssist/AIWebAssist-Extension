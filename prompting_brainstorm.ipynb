{
  "nbformat": 4,
  "nbformat_minor": 0,
  "metadata": {
    "colab": {
      "provenance": [],
      "authorship_tag": "ABX9TyN9Q4/iJMHjCwrBvkyltyjD",
      "include_colab_link": true
    },
    "kernelspec": {
      "name": "python3",
      "display_name": "Python 3"
    },
    "language_info": {
      "name": "python"
    }
  },
  "cells": [
    {
      "cell_type": "markdown",
      "metadata": {
        "id": "view-in-github",
        "colab_type": "text"
      },
      "source": [
        "<a href=\"https://colab.research.google.com/github/erlichsefi/ScrapAnything/blob/main/prompting_brainstorm.ipynb\" target=\"_parent\"><img src=\"https://colab.research.google.com/assets/colab-badge.svg\" alt=\"Open In Colab\"/></a>"
      ]
    },
    {
      "cell_type": "code",
      "execution_count": null,
      "metadata": {
        "id": "CgQDGRwxqnVo"
      },
      "outputs": [],
      "source": [
        "\n",
        "task = \"I would like to post new post on the MLDI group, the text should be \\\"eliran is the king!\\\"\"\n",
        "\n",
        "how_to_respond = \"respond with one of the numbers above and I will click it, only write the number.\"\n",
        "\n",
        "on_screen = \"\"\"\n",
        "Here is the link menu:\n",
        "\n",
        "1. Profile picture next to \"Sefi Erlich\" (LINK)\n",
        "2. Two-person symbol next to \"Friends\" (LINK)\n",
        "3. Paper with clock symbol to \"Most recent\" (LINK)\n",
        "4. Three-person symbol  next to \"Group\" (LINK)\n",
        "5. Small house icon next to \"Marketplace\" (LINK)\n",
        "6. Small TV next to \"Watch\" (LINK)\n",
        "7. Arrow down next to \"see more\" (LINK)\n",
        "\n",
        "----\n",
        "Your shortcuts\n",
        "8. Some Icon next to \"supertools\" (LINK)\n",
        "9. some icon next to \"DataHack\" (LINK)\n",
        "10. Arrow down next to \"see more\" (LINK)\n",
        "\n",
        "\"\"\"\n",
        "\n",
        "\n",
        "final_prompt = task + on_screen + how_to_respond\n",
        "\n",
        "\n",
        "\n",
        "\n"
      ]
    }
  ]
}