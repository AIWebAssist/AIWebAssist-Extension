{
  "nbformat": 4,
  "nbformat_minor": 0,
  "metadata": {
    "colab": {
      "provenance": [],
      "authorship_tag": "ABX9TyPZmUELm0wicfB60uXSrGJw",
      "include_colab_link": true
    },
    "kernelspec": {
      "name": "python3",
      "display_name": "Python 3"
    },
    "language_info": {
      "name": "python"
    }
  },
  "cells": [
    {
      "cell_type": "markdown",
      "metadata": {
        "id": "view-in-github",
        "colab_type": "text"
      },
      "source": [
        "<a href=\"https://colab.research.google.com/github/erlichsefi/ScrapeAnything/blob/main/browser_base_translation%20/AutoJavaScript.ipynb\" target=\"_parent\"><img src=\"https://colab.research.google.com/assets/colab-badge.svg\" alt=\"Open In Colab\"/></a>"
      ]
    },
    {
      "cell_type": "markdown",
      "source": [
        "# AutoGPT with JavaScript"
      ],
      "metadata": {
        "id": "gHidTiDzHHXy"
      }
    },
    {
      "cell_type": "markdown",
      "source": [
        "## install selenium & chromium"
      ],
      "metadata": {
        "id": "GXf2r5RIxsJx"
      }
    },
    {
      "cell_type": "code",
      "source": [
        "# According to: https://stackoverflow.com/questions/51046454/how-can-we-use-selenium-webdriver-in-colab-research-google-com\n",
        "%%capture\n",
        "%%shell\n",
        "# Ubuntu no longer distributes chromium-browser outside of snap\n",
        "#\n",
        "# Proposed solution: https://askubuntu.com/questions/1204571/how-to-install-chromium-without-snap\n",
        "\n",
        "# Add debian buster\n",
        "cat > /etc/apt/sources.list.d/debian.list <<'EOF'\n",
        "deb [arch=amd64 signed-by=/usr/share/keyrings/debian-buster.gpg] http://deb.debian.org/debian buster main\n",
        "deb [arch=amd64 signed-by=/usr/share/keyrings/debian-buster-updates.gpg] http://deb.debian.org/debian buster-updates main\n",
        "deb [arch=amd64 signed-by=/usr/share/keyrings/debian-security-buster.gpg] http://deb.debian.org/debian-security buster/updates main\n",
        "EOF\n",
        "\n",
        "# Add keys\n",
        "apt-key adv --keyserver keyserver.ubuntu.com --recv-keys DCC9EFBF77E11517\n",
        "apt-key adv --keyserver keyserver.ubuntu.com --recv-keys 648ACFD622F3D138\n",
        "apt-key adv --keyserver keyserver.ubuntu.com --recv-keys 112695A0E562B32A\n",
        "\n",
        "apt-key export 77E11517 | gpg --dearmour -o /usr/share/keyrings/debian-buster.gpg\n",
        "apt-key export 22F3D138 | gpg --dearmour -o /usr/share/keyrings/debian-buster-updates.gpg\n",
        "apt-key export E562B32A | gpg --dearmour -o /usr/share/keyrings/debian-security-buster.gpg\n",
        "\n",
        "# Prefer debian repo for chromium* packages only\n",
        "# Note the double-blank lines between entries\n",
        "cat > /etc/apt/preferences.d/chromium.pref << 'EOF'\n",
        "Package: *\n",
        "Pin: release a=eoan\n",
        "Pin-Priority: 500\n",
        "\n",
        "\n",
        "Package: *\n",
        "Pin: origin \"deb.debian.org\"\n",
        "Pin-Priority: 300\n",
        "\n",
        "\n",
        "Package: chromium*\n",
        "Pin: origin \"deb.debian.org\"\n",
        "Pin-Priority: 700\n",
        "EOF\n",
        "\n",
        "# Install chromium and chromium-driver\n",
        "apt-get update\n",
        "apt-get install chromium chromium-driver\n",
        "\n",
        "# Install selenium\n",
        "pip install selenium\n",
        "apt install chromium-chromedriver\n",
        "pip install pandas\n",
        "pip install openai"
      ],
      "metadata": {
        "id": "2Ar3WMu_hlMY"
      },
      "execution_count": 23,
      "outputs": []
    },
    {
      "cell_type": "markdown",
      "source": [
        "## util to convert the on screen to data"
      ],
      "metadata": {
        "id": "iK3qPFYRsFhC"
      }
    },
    {
      "cell_type": "code",
      "source": [
        "script_with_logs = \"\"\"\n",
        "// Get all elements in the HTML page\n",
        "const elements = document.getElementsByTagName('*');\n",
        "\n",
        "// Create an array to store the element details\n",
        "const elementDetails = [];\n",
        "\n",
        "// Iterate through each element\n",
        "for (let i = 0; i < elements.length; i++) {\n",
        "  const element = elements[i];\n",
        "\n",
        "  // Get the bounding rectangle of the element\n",
        "  const rect = element.getBoundingClientRect();\n",
        "\n",
        "  // Get the text content of the element\n",
        "  const textContent = element.textContent.trim();\n",
        "\n",
        "  // Get the tooltip value if it exists\n",
        "  const tooltip = element.hasAttribute('title') ? element.getAttribute('title') : '';\n",
        "\n",
        "  // Store the element, its bounding rectangle, text content, and tooltip details\n",
        "  const elementInfo = {\n",
        "    element: element,\n",
        "    rect: rect,\n",
        "    textContent: textContent,\n",
        "    ariaLabel: element.hasAttribute('aria-label') ? element.getAttribute('aria-label') : '',\n",
        "    tooltip: tooltip,\n",
        "    e_type: element.nodeName\n",
        "  };\n",
        "  if (elementInfo.rect.width > 0 && elementInfo.rect.height > 0){\n",
        "  // Add the element details to the array\n",
        "   if (elementInfo.tooltip != '' || elementInfo.textContent != '' || elementInfo.ariaLabel != ''){\n",
        "    elementDetails.push(elementInfo);\n",
        "    }\n",
        "  }\n",
        "}\n",
        "\n",
        "let parents = elementDetails.map(e=>e.element.parentElement);\n",
        "let withoutParents = elementDetails.filter(elementDetail=> !parents.includes(elementDetail.element));\n",
        "\n",
        "// Display the element details\n",
        "console.log(\"X,Y,Width,Height,ElementType,textContent,TooltipValue,AriaLabel\");\n",
        "console.log(withoutParents.map( e=> e.rect.x+\",\"+e.rect.y+\",\"+e.rect.width+\",\"+e.rect.height+\",\"+e.e_type+\",\"+e.rect.textContent+\",\"+e.tooltip+\",\"+e.ariaLabel).join(\"\\\\n\"));\n",
        "\"\"\"\n",
        "\n",
        "def screen_to_table(wd):\n",
        "  import pandas as pd\n",
        "  import io\n",
        "\n",
        "  script = f\"\"\"\n",
        "  var consoleLogs = [];\n",
        "  var originalLog = console.log;\n",
        "  console.log = function(message) {{\n",
        "      consoleLogs.push(message);\n",
        "      originalLog.apply(console, arguments);\n",
        "  }};\n",
        "\n",
        "  {script_with_logs}\n",
        "\n",
        "  return consoleLogs;\n",
        "  \"\"\"\n",
        "  logs = wd.execute_script(script)\n",
        "  return pd.read_csv(io.StringIO(\"\\n\".join(logs)), sep=\",\")"
      ],
      "metadata": {
        "id": "JZI63EzejCxx"
      },
      "execution_count": 25,
      "outputs": []
    },
    {
      "cell_type": "code",
      "source": [
        "def start_browesr():\n",
        "  from selenium import webdriver\n",
        "  from selenium.webdriver.chrome.service import Service\n",
        "\n",
        "  service = Service(executable_path=r'/usr/bin/chromedriver')\n",
        "  chrome_options = webdriver.ChromeOptions()\n",
        "  chrome_options.add_argument('--headless')\n",
        "  chrome_options.add_argument('--no-sandbox')\n",
        "  chrome_options.add_argument('--lang=en')\n",
        "  chrome_options.headless = True\n",
        "  return webdriver.Chrome(service=service,options=chrome_options)\n"
      ],
      "metadata": {
        "id": "N6sKsanHh5oQ"
      },
      "execution_count": 39,
      "outputs": []
    },
    {
      "cell_type": "markdown",
      "source": [
        "# Tools\n",
        "base on https://github.com/mpaepper/llm_agents/blob/main/llm_agents/tools/google_search.py"
      ],
      "metadata": {
        "id": "kuzmzsovUhIC"
      }
    },
    {
      "cell_type": "code",
      "source": [
        "from pydantic import BaseModel\n",
        "\n",
        "class ToolInterface(BaseModel):\n",
        "    name: str\n",
        "    description: str\n",
        "    web_driver: object\n",
        "\n",
        "\n",
        "    def use(self) -> str:\n",
        "        raise NotImplementedError(\"use() method not implemented\")  # Implement in subclass"
      ],
      "metadata": {
        "id": "5HipqxA3Uf1Z"
      },
      "execution_count": 28,
      "outputs": []
    },
    {
      "cell_type": "code",
      "source": [
        "def click_on_screen(wd, x, y):\n",
        "  from selenium.webdriver.common.action_chains import ActionChains\n",
        "\n",
        "  actions = ActionChains(wd)\n",
        "  actions.move_by_offset(x, y)\n",
        "  actions.click()\n",
        "  actions.perform()\n",
        "  return wd\n",
        "\n",
        "\n",
        "class ClickOnCoordinates(ToolInterface):\n",
        "  \"\"\"Click on certain coordinate on the screen \"\"\"\n",
        "\n",
        "  name = \"Click on coordinates on the screen\"\n",
        "  description = \"click on x,y coordinates in order to move to the next screen. Input should be a two value x and y.\"\n",
        "\n",
        "  def use(self,web_driver:object, x: float, y:float) -> str:\n",
        "      return click_on_screen(web_driver,x,y)"
      ],
      "metadata": {
        "id": "1QAp6X9sVd1_"
      },
      "execution_count": 29,
      "outputs": []
    },
    {
      "cell_type": "code",
      "source": [
        "class GoToURL(ToolInterface):\n",
        "  \"\"\" Go to a specific url address \"\"\"\n",
        "\n",
        "  name = \"Go to a specific url web address\"\n",
        "  description = \"Change the url to a provied URL. Input should be single string in URL foramt.\"\n",
        "\n",
        "\n",
        "  def use(self,web_driver:object, url: str) -> str:\n",
        "      web_driver.get(url)\n",
        "      return web_driver"
      ],
      "metadata": {
        "id": "gcTWqzheUtim"
      },
      "execution_count": 44,
      "outputs": []
    },
    {
      "cell_type": "code",
      "source": [
        "class ScrollDown(ToolInterface):\n",
        "    \"\"\"Scroll down the web page by half the screen height\"\"\"\n",
        "\n",
        "    name = \"Scroll Down\"\n",
        "    description = \"Scroll down the web page by half the screen height\"\n",
        "\n",
        "    def use(self, web_driver: object) -> None:\n",
        "        # Get the height of the web page\n",
        "        page_height = web_driver.execute_script(\"return document.body.scrollHeight\")\n",
        "\n",
        "        # Get the height of the viewport\n",
        "        viewport_height = web_driver.execute_script(\"return window.innerHeight\")\n",
        "\n",
        "        # Calculate the scroll distance (half the screen height)\n",
        "        scroll_distance = viewport_height // 2\n",
        "\n",
        "        # Scroll down the web page\n",
        "        web_driver.execute_script(f\"window.scrollBy(0, {scroll_distance});\")"
      ],
      "metadata": {
        "id": "luU4r4Zxu3ix"
      },
      "execution_count": null,
      "outputs": []
    },
    {
      "cell_type": "code",
      "source": [
        "class ScrollUp(ToolInterface):\n",
        "    \"\"\"Scroll up the web page by half the screen height\"\"\"\n",
        "\n",
        "    name = \"Scroll Up\"\n",
        "    description = \"Scroll up the web page by half the screen height\"\n",
        "\n",
        "    def use(self, web_driver: object) -> None:\n",
        "        # Get the height of the viewport\n",
        "        viewport_height = web_driver.execute_script(\"return window.innerHeight\")\n",
        "\n",
        "        # Calculate the scroll distance (half the screen height)\n",
        "        scroll_distance = viewport_height // 2\n",
        "\n",
        "        # Scroll up the web page\n",
        "        web_driver.execute_script(f\"window.scrollBy(0, -{scroll_distance});\")"
      ],
      "metadata": {
        "id": "x3REjyXSwIre"
      },
      "execution_count": null,
      "outputs": []
    },
    {
      "cell_type": "markdown",
      "source": [
        "# AutoAgent\n",
        "\n"
      ],
      "metadata": {
        "id": "FI3Lxl6VNe_o"
      }
    },
    {
      "cell_type": "code",
      "source": [
        "import openai\n",
        "import os\n",
        "\n",
        "from pydantic import BaseModel\n",
        "from typing import List\n",
        "\n",
        "\n",
        "class ChatLLM(BaseModel):\n",
        "    model: str = 'gpt-3.5-turbo'\n",
        "    temperature: float = 0.0\n",
        "    openai.api_key =\n",
        "\n",
        "    def generate(self, prompt: str, stop: List[str] = None):\n",
        "        response = openai.ChatCompletion.create(\n",
        "            model=self.model,\n",
        "            messages=[{\"role\": \"user\", \"content\": prompt}],\n",
        "            temperature=self.temperature,\n",
        "            stop=stop\n",
        "        )\n",
        "        return response.choices[0].message.content"
      ],
      "metadata": {
        "id": "GHQDrq5hUMeD"
      },
      "execution_count": 31,
      "outputs": []
    },
    {
      "cell_type": "code",
      "source": [
        "def web_driver_to_image(wd,prefix=\"\"):\n",
        "  import re\n",
        "  import os\n",
        "  from urllib.parse import urlparse, urlunparse\n",
        "\n",
        "  url = wd.current_url\n",
        "  # Parse the URL\n",
        "  parsed_url = urlparse(url)\n",
        "\n",
        "  # Remove the query parameters\n",
        "  clean_url = urlunparse((parsed_url.scheme, parsed_url.netloc, parsed_url.path, \"\", \"\", \"\"))\n",
        "\n",
        "  file_name = re.sub(r'[^a-zA-Z0-9_-]', '_', clean_url)\n",
        "  file_name = f\"{prefix}_{file_name}.png\"\n",
        "\n",
        "  wd.save_screenshot(file_name)\n",
        "  return file_name\n"
      ],
      "metadata": {
        "id": "QlwwM0kUhPx_"
      },
      "execution_count": 8,
      "outputs": []
    },
    {
      "cell_type": "code",
      "source": [
        "import datetime\n",
        "import re\n",
        "\n",
        "from pydantic import BaseModel\n",
        "from typing import List, Dict, Tuple\n",
        "\n",
        "\n",
        "FINAL_ANSWER_TOKEN = \"Final Answer:\"\n",
        "OBSERVATION_TOKEN = \"Observation:\"\n",
        "THOUGHT_TOKEN = \"Thought:\"\n",
        "PROMPT_TEMPLATE = \"\"\"\n",
        "\n",
        "Today is {today}, The site i'm looking on is {site_url}, Here is a representation of what is see on my screen in a table shape.\n",
        "\n",
        "{on_screen_data}\n",
        "\n",
        "You should accomplish the task given to you as best as you can using the following tools:\n",
        "\n",
        "{tool_description}\n",
        "\n",
        "Use the following format:\n",
        "\n",
        "Question: the input question you must answer\n",
        "Thought: comment on what you want to do next\n",
        "Action: the action to take, exactly one element of [{tool_names}]\n",
        "Action Input: the input to the action\n",
        "Observation: the result of the action\n",
        "... (this Thought/Action/Action Input/Observation repeats N times, use it until you are sure of the answer)\n",
        "Thought: I now know the final answer\n",
        "Final Answer: your final answer to the original input question\n",
        "\n",
        "Begin!\n",
        "\n",
        "Task To Accomplish: {task_to_accomplish}\n",
        "Thought: {previous_responses}\n",
        "\"\"\"\n",
        "\n",
        "\n",
        "class Agent(BaseModel):\n",
        "    llm: ChatLLM\n",
        "    webdriver : object\n",
        "    tools: List[ToolInterface]\n",
        "    prompt_template: str = PROMPT_TEMPLATE\n",
        "    max_loops: int = 1\n",
        "    # The stop pattern is used, so the LLM does not hallucinate until the end\n",
        "    stop_pattern: List[str] = [f'\\n{OBSERVATION_TOKEN}', f'\\n\\t{OBSERVATION_TOKEN}']\n",
        "\n",
        "    @property\n",
        "    def tool_description(self) -> str:\n",
        "        return \"\\n\".join([f\"{tool.name}: {tool.description}\" for tool in self.tools])\n",
        "\n",
        "    @property\n",
        "    def tool_names(self) -> str:\n",
        "        return \",\".join([tool.name for tool in self.tools])\n",
        "\n",
        "    @property\n",
        "    def tool_by_names(self) -> Dict[str, ToolInterface]:\n",
        "        return {tool.name: tool for tool in self.tools}\n",
        "\n",
        "    def run(self, task_to_accomplish: str, url:str):\n",
        "        webdriver = start_browesr()\n",
        "        try:\n",
        "            webdriver.get(url)\n",
        "            previous_responses = []\n",
        "            num_loops = 0\n",
        "            on_screen = screen_to_table(webdriver)\n",
        "            web_driver_to_image(webdriver,prefix=\"step_0\")\n",
        "            prompt = self.prompt_template.format(\n",
        "                    today = datetime.date.today(),\n",
        "                    tool_description=self.tool_description,\n",
        "                  tool_names=self.tool_names,\n",
        "                  task_to_accomplish=task_to_accomplish,\n",
        "                  on_screen_data=\"{on_screen_data}\",\n",
        "                  previous_responses='{previous_responses}',\n",
        "                  site_url=url\n",
        "            )\n",
        "\n",
        "            while num_loops < self.max_loops:\n",
        "                num_loops += 1\n",
        "\n",
        "                curr_prompt = prompt.format(previous_responses='\\n'.join(previous_responses),\n",
        "                                            on_screen_data=on_screen.to_csv(index=False)\n",
        "                )\n",
        "                print(curr_prompt)\n",
        "\n",
        "\n",
        "                generated, tool, tool_input = self.decide_next_action(curr_prompt)\n",
        "                if tool == 'Final Answer':\n",
        "                    return tool_input\n",
        "                if tool not in self.tool_by_names:\n",
        "                    raise ValueError(f\"Unknown tool: {tool}\")\n",
        "\n",
        "                print('------')\n",
        "                print(webdriver)\n",
        "                print(generated)\n",
        "\n",
        "                webdriver = self.tool_by_names[tool].use(webdriver,tool_input)\n",
        "                on_screen = screen_to_table(webdriver)\n",
        "                web_driver_to_image(webdriver,prefix=f\"step_{str(num_loops+1)}\")\n",
        "                generated += f\"\\n{OBSERVATION_TOKEN} \\n{THOUGHT_TOKEN}\"\n",
        "\n",
        "                previous_responses.append(generated)\n",
        "        except Exception as e:\n",
        "                if webdriver:\n",
        "                  webdriver.close()\n",
        "                raise e\n",
        "\n",
        "\n",
        "    def decide_next_action(self, prompt: str) -> str:\n",
        "        generated = self.llm.generate(prompt, stop=self.stop_pattern)\n",
        "\n",
        "        tool, tool_input = self._parse(generated)\n",
        "        return generated, tool, tool_input\n",
        "\n",
        "    def _parse(self, generated: str) -> Tuple[str, str]:\n",
        "        if FINAL_ANSWER_TOKEN in generated:\n",
        "            return \"Final Answer\", generated.split(FINAL_ANSWER_TOKEN)[-1].strip()\n",
        "\n",
        "        regex = r\"Action: [\\[]?(.*?)[\\]]?[\\n]*Action Input:[\\s]*(.*)\"\n",
        "        match = re.search(regex, generated, re.DOTALL)\n",
        "        if not match:\n",
        "            raise ValueError(f\"Output of LLM is not parsable for next tool use: `{generated}`\")\n",
        "        tool = match.group(1).strip()\n",
        "        tool_input = match.group(2)\n",
        "        return tool, tool_input.strip(\" \").strip('\"')"
      ],
      "metadata": {
        "id": "XKP-j6DUUCPd"
      },
      "execution_count": 40,
      "outputs": []
    },
    {
      "cell_type": "code",
      "source": [
        "agent = Agent(llm=ChatLLM(), tools=[GoToURL(),ClickOnCoordinates()])\n",
        "agent.run(\"Log into my Gmail account\",\"https://www.google.com\")"
      ],
      "metadata": {
        "colab": {
          "base_uri": "https://localhost:8080/"
        },
        "id": "7iKNXIh3m2MX",
        "outputId": "4fe44b69-4355-47fb-ac9f-72ca33a69e05"
      },
      "execution_count": 45,
      "outputs": [
        {
          "output_type": "stream",
          "name": "stderr",
          "text": [
            "<ipython-input-39-8840b3b0eece>:10: DeprecationWarning: headless property is deprecated, instead use add_argument('--headless') or add_argument('--headless=new')\n",
            "  chrome_options.headless = True\n"
          ]
        },
        {
          "output_type": "stream",
          "name": "stdout",
          "text": [
            "https://www.google.com/\n",
            "\n",
            "\n",
            "Today is 2023-06-17, The site i'm looking on is https://www.google.com, Here is a representation of what is see on my screen in a table shape.\n",
            "\n",
            "X,Y,Width,Height,ElementType,textContent,TooltipValue,AriaLabel\n",
            "21.0,17,40.34375,26,A,undefined,,\n",
            "71.34375,17,43.46875,26,A,undefined,,\n",
            "482.421875,18,33.953125,24,A,undefined,,Gmail (opent een nieuw tabblad)\n",
            "531.375,18,75.90625,24,A,undefined,,Zoeken naar afbeeldingen (opent een nieuw tabblad)\n",
            "626.28125,10,40.0,40,A,undefined,,Google-apps\n",
            "702.28125,22,55.71875,16,SPAN,undefined,,\n",
            "264.0,60,272.0,92,DIV,undefined,,\n",
            "123.0,179,33.0,46,DIV,undefined,,\n",
            "156.0,190,443.0,27,TEXTAREA,undefined,Zoeken,Zoek\n",
            "603.0,179,40.0,44,DIV,undefined,,Gesproken zoekopdracht\n",
            "643.0,179,40.0,44,DIV,undefined,,Zoeken op afbeelding\n",
            "266.25,255,129.734375,36,INPUT,undefined,,Google Zoeken\n",
            "407.875,255,125.859375,36,INPUT,undefined,,Ik doe een gok\n",
            "424.375,318,37.78125,15,A,undefined,,\n",
            "465.78125,318,48.640625,15,A,undefined,,\n",
            "0.0,459,800.0,48,DIV,undefined,,\n",
            "56.640625,554,98.484375,46,A,undefined,,\n",
            "155.125,554,69.6875,46,A,undefined,,\n",
            "224.8125,554,192.640625,46,A,undefined,,\n",
            "331.296875,522,155.65625,16,SPAN,undefined,,\n",
            "454.09375,554,75.90625,46,A,undefined,,\n",
            "530.0,554,112.515625,46,A,undefined,,\n",
            "642.515625,554,100.828125,46,DIV,undefined,,\n",
            "569.125,38,17.90625,20,DIV,undefined,,\n",
            "618.03125,28,95.71875,40,DIV,undefined,,\n",
            "71.25,90,642.5,36,H1,undefined,,\n",
            "163.875,148,48.875,16,A,undefined,,\n",
            "71.25,178,642.5,20,LI,undefined,,\n",
            "71.25,210,642.5,20,LI,undefined,,\n",
            "71.25,242,642.5,40,LI,undefined,,\n",
            "71.25,338,642.5,20,LI,undefined,,\n",
            "71.25,370,642.5,20,LI,undefined,,\n",
            "71.25,402,642.5,20,LI,undefined,,\n",
            "71.25,434,642.5,20,LI,undefined,,\n",
            "71.25,466,642.5,20,DIV,undefined,,\n",
            "71.25,510,642.5,140,DIV,undefined,,\n",
            "273.203125,686,107.671875,16,SPAN,undefined,,\n",
            "158.328125,728,218.828125,40,DIV,undefined,,\n",
            "389.15625,728,237.515625,40,DIV,undefined,,\n",
            "347.921875,772,89.15625,48,A,undefined,,\n",
            "317.796875,820,55.34375,48,A,undefined,,\n",
            "375.140625,820,3.34375,48,DIV,undefined,,\n",
            "380.484375,820,86.71875,48,A,undefined,,\n",
            "\n",
            "\n",
            "You should accomplish the task given to you as best as you can using the following tools: \n",
            "\n",
            "Go to a specific url web address: Change the url to a provied URL. Input should be single string in URL foramt.\n",
            "Click on coordinates on the screen: click on x,y coordinates in order to move to the next screen. Input should be a two value x and y.\n",
            "\n",
            "Use the following format:\n",
            "\n",
            "Question: the input question you must answer\n",
            "Thought: comment on what you want to do next\n",
            "Action: the action to take, exactly one element of [Go to a specific url web address,Click on coordinates on the screen]\n",
            "Action Input: the input to the action\n",
            "Observation: the result of the action\n",
            "... (this Thought/Action/Action Input/Observation repeats N times, use it until you are sure of the answer)\n",
            "Thought: I now know the final answer\n",
            "Final Answer: your final answer to the original input question\n",
            "\n",
            "Begin!\n",
            "\n",
            "Task To Accomplish: Log into my Gmail account\n",
            "Thought: \n",
            "\n",
            "------\n",
            "<selenium.webdriver.chrome.webdriver.WebDriver (session=\"dddadb5199dca1a52d8482d44f8ed045\")>\n",
            "I need to go to the Google login page first\n",
            "Action: Go to a specific url web address\n",
            "Action Input: https://accounts.google.com/\n",
            "https://accounts.google.com/v3/signin/identifier\n"
          ]
        }
      ]
    },
    {
      "cell_type": "code",
      "source": [
        "# def display_image(file_name):\n",
        "#   from IPython.display import Image, display\n",
        "#   display(Image(filename=file_name))"
      ],
      "metadata": {
        "id": "ipzM2dYoUFLN"
      },
      "execution_count": null,
      "outputs": []
    },
    {
      "cell_type": "code",
      "source": [],
      "metadata": {
        "id": "MFeY3I-Ws7mb"
      },
      "execution_count": null,
      "outputs": []
    }
  ]
}