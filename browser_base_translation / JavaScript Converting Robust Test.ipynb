{
  "nbformat": 4,
  "nbformat_minor": 0,
  "metadata": {
    "colab": {
      "provenance": [],
      "authorship_tag": "ABX9TyNp8JpQmMB5eLG7vS76ODTw",
      "include_colab_link": true
    },
    "kernelspec": {
      "name": "python3",
      "display_name": "Python 3"
    },
    "language_info": {
      "name": "python"
    }
  },
  "cells": [
    {
      "cell_type": "markdown",
      "metadata": {
        "id": "view-in-github",
        "colab_type": "text"
      },
      "source": [
        "<a href=\"https://colab.research.google.com/github/erlichsefi/ScrapeAnything/blob/main/browser_base_translation%20/%20JavaScript%20Converting%20Robust%20Test.ipynb\" target=\"_parent\"><img src=\"https://colab.research.google.com/assets/colab-badge.svg\" alt=\"Open In Colab\"/></a>"
      ]
    },
    {
      "cell_type": "markdown",
      "source": [
        "# Converting sites to dataframe"
      ],
      "metadata": {
        "id": "gHidTiDzHHXy"
      }
    },
    {
      "cell_type": "markdown",
      "source": [
        "# first: install selenium & chromium"
      ],
      "metadata": {
        "id": "GXf2r5RIxsJx"
      }
    },
    {
      "cell_type": "code",
      "source": [
        "# According to: https://stackoverflow.com/questions/51046454/how-can-we-use-selenium-webdriver-in-colab-research-google-com\n",
        "%%capture\n",
        "%%shell\n",
        "# Ubuntu no longer distributes chromium-browser outside of snap\n",
        "#\n",
        "# Proposed solution: https://askubuntu.com/questions/1204571/how-to-install-chromium-without-snap\n",
        "\n",
        "# Add debian buster\n",
        "cat > /etc/apt/sources.list.d/debian.list <<'EOF'\n",
        "deb [arch=amd64 signed-by=/usr/share/keyrings/debian-buster.gpg] http://deb.debian.org/debian buster main\n",
        "deb [arch=amd64 signed-by=/usr/share/keyrings/debian-buster-updates.gpg] http://deb.debian.org/debian buster-updates main\n",
        "deb [arch=amd64 signed-by=/usr/share/keyrings/debian-security-buster.gpg] http://deb.debian.org/debian-security buster/updates main\n",
        "EOF\n",
        "\n",
        "# Add keys\n",
        "apt-key adv --keyserver keyserver.ubuntu.com --recv-keys DCC9EFBF77E11517\n",
        "apt-key adv --keyserver keyserver.ubuntu.com --recv-keys 648ACFD622F3D138\n",
        "apt-key adv --keyserver keyserver.ubuntu.com --recv-keys 112695A0E562B32A\n",
        "\n",
        "apt-key export 77E11517 | gpg --dearmour -o /usr/share/keyrings/debian-buster.gpg\n",
        "apt-key export 22F3D138 | gpg --dearmour -o /usr/share/keyrings/debian-buster-updates.gpg\n",
        "apt-key export E562B32A | gpg --dearmour -o /usr/share/keyrings/debian-security-buster.gpg\n",
        "\n",
        "# Prefer debian repo for chromium* packages only\n",
        "# Note the double-blank lines between entries\n",
        "cat > /etc/apt/preferences.d/chromium.pref << 'EOF'\n",
        "Package: *\n",
        "Pin: release a=eoan\n",
        "Pin-Priority: 500\n",
        "\n",
        "\n",
        "Package: *\n",
        "Pin: origin \"deb.debian.org\"\n",
        "Pin-Priority: 300\n",
        "\n",
        "\n",
        "Package: chromium*\n",
        "Pin: origin \"deb.debian.org\"\n",
        "Pin-Priority: 700\n",
        "EOF\n",
        "\n",
        "# Install chromium and chromium-driver\n",
        "apt-get update\n",
        "apt-get install chromium chromium-driver\n",
        "\n",
        "# Install selenium\n",
        "pip install selenium\n",
        "apt install chromium-chromedriver\n",
        "pip install pandas"
      ],
      "metadata": {
        "id": "2Ar3WMu_hlMY"
      },
      "execution_count": 1,
      "outputs": []
    },
    {
      "cell_type": "code",
      "source": [
        "script_with_logs = \"\"\"\n",
        "// Get all elements in the HTML page\n",
        "const elements = document.getElementsByTagName('*');\n",
        "\n",
        "// Create an array to store the element details\n",
        "const elementDetails = [];\n",
        "\n",
        "// Iterate through each element\n",
        "for (let i = 0; i < elements.length; i++) {\n",
        "  const element = elements[i];\n",
        "\n",
        "  // Get the bounding rectangle of the element\n",
        "  const rect = element.getBoundingClientRect();\n",
        "\n",
        "  // Get the text content of the element\n",
        "  const textContent = element.hasAttribute('textContent') ? element.getAttribute('textContent').trim() : '';\n",
        "\n",
        "  // Get the tooltip value if it exists\n",
        "  const tooltip = element.hasAttribute('title') ? element.getAttribute('title') : '';\n",
        "\n",
        "  // Get the aria-label value\n",
        "  const ariaLabel = (element.hasAttribute('aria-label') ? element.getAttribute('aria-label') : '')\n",
        "\n",
        "  // Get the nodeName\n",
        "  const e_type = (element.hasAttribute('nodeName') ? element.getAttribute('nodeName') : '')\n",
        "\n",
        "  // Get the data-initial-value\n",
        "  const data_initial_value = (element.hasAttribute('data-initial-value') ? element.getAttribute('data-initial-value') : '')\n",
        "\n",
        "  // Get innerText\n",
        "  const innerText = element.innerText\n",
        "\n",
        "  // Store the element, its bounding rectangle, text content, and tooltip details\n",
        "  const elementInfo = {\n",
        "    element: element,\n",
        "    rect: rect,\n",
        "    textContent: textContent.replaceAll(\",\",\";\"),\n",
        "    ariaLabel: ariaLabel.replaceAll(\",\",\";\"),\n",
        "    tooltip: tooltip.replaceAll(\",\",\";\"),\n",
        "    e_type: e_type.replaceAll(\",\",\";\"),\n",
        "    data_initial_value: data_initial_value.replaceAll(\",\",\";\"),\n",
        "    innerText: innerText !== undefined ? innerText.replaceAll(\",\",\";\"): \"\",\n",
        "  };\n",
        "  if ( elementInfo.rect.width > 0 && elementInfo.rect.height > 0){\n",
        "    if (elementInfo.innerText != '' || elementInfo.data_initial_value != '' || elementInfo.tooltip != '' || elementInfo.textContent != '' || elementInfo.ariaLabel != ''){\n",
        "      elementDetails.push(elementInfo);\n",
        "    }\n",
        "\n",
        "  }\n",
        "}\n",
        "\n",
        "let parents = elementDetails.map(e => e.element.parentElement);\n",
        "\n",
        "const counts = {};\n",
        "for (const num of parents) {\n",
        "  counts[num] = counts[num] ? counts[num] + 1 : 1;\n",
        "}\n",
        "// counts[elementDetail.element] == 1 &&\n",
        "let withoutParents = elementDetails.filter(elementDetail => !( parents.includes(elementDetail.element)));\n",
        "// Display the element details\n",
        "console.log(\"X,Y,Top,Bottom,Left,Right,Width,Height,ElementType,textContent,TooltipValue,AriaLabel,data-initial-value\");\n",
        "console.log(withoutParents.map( e=> e.rect.x+\",\"+e.rect.y+\",\"+e.rect.top+\",\"+e.rect.bottom+\",\"+e.rect.left+\",\"+e.rect.right+\",\"+e.rect.width+\",\"+e.rect.height+\",\"+e.e_type+\",\"+e.textContent+\",\"+e.tooltip+\",\"+e.ariaLabel+\",\"+e.data_initial_value).join(\"\\\\n\"));\n",
        "\"\"\""
      ],
      "metadata": {
        "id": "JZI63EzejCxx"
      },
      "execution_count": 48,
      "outputs": []
    },
    {
      "cell_type": "code",
      "source": [
        "def write_to_text(filename,logs,error):\n",
        "  with open(filename, 'w') as f:\n",
        "    f.write(f\"error={error}\\n\")\n",
        "    f.write('\\n'.join(logs))\n",
        "\n",
        "\n",
        "def draw_all_rec_on_screenshot(file_name,list_of_elements):\n",
        "  from PIL import Image, ImageDraw\n",
        "  # Load the screenshot image\n",
        "  screenshot = Image.open(file_name)\n",
        "  # Create a drawing object\n",
        "  draw = ImageDraw.Draw(screenshot)\n",
        "\n",
        "  for _,elements in list_of_elements.iterrows():\n",
        "    #print(elements)\n",
        "    # x = elements['X']\n",
        "    # y = elements['X']\n",
        "    top = elements['Top']\n",
        "    bottom = elements['Bottom']\n",
        "    left = elements['Left']\n",
        "    right = elements['Right']\n",
        "    # width = elements['Width']\n",
        "    # height = elements['Height']\n",
        "\n",
        "    # Draw a rectangle on the screenshot image\n",
        "    draw.rectangle([(left, top), (right, bottom)], outline='red')\n",
        "\n",
        "    # Save the modified screenshot with the drawn rectangle\n",
        "  screenshot.save(f\"boxes_{file_name}\")"
      ],
      "metadata": {
        "id": "WebOgX_aFYRr"
      },
      "execution_count": 49,
      "outputs": []
    },
    {
      "cell_type": "code",
      "source": [
        "def web_driver_to_image(wd,prefix=\"\"):\n",
        "  import re\n",
        "  import os\n",
        "  from urllib.parse import urlparse, urlunparse\n",
        "\n",
        "  url = wd.current_url\n",
        "  # Parse the URL\n",
        "  parsed_url = urlparse(url)\n",
        "\n",
        "  # Remove the query parameters\n",
        "  clean_url = urlunparse((parsed_url.scheme, parsed_url.netloc, parsed_url.path, \"\", \"\", \"\"))\n",
        "  file_name = re.sub(r'[^a-zA-Z0-9_-]', '_', clean_url)\n",
        "  file_name = f\"{prefix}{file_name}\"\n",
        "\n",
        "  wd.save_screenshot(f\"{file_name}.png\")\n",
        "  return file_name\n",
        "\n",
        "def get_browser():\n",
        "    from selenium import webdriver\n",
        "    from selenium.webdriver.chrome.service import Service\n",
        "\n",
        "    # restart the browser\n",
        "    service = Service(executable_path=r'/usr/bin/chromedriver')\n",
        "    chrome_options = webdriver.ChromeOptions()\n",
        "    chrome_options.add_argument('--headless=new')\n",
        "    chrome_options.add_argument('--no-sandbox')\n",
        "    chrome_options.headless = True\n",
        "    wd = webdriver.Chrome(service=service,options=chrome_options)\n",
        "\n",
        "    return wd\n",
        "\n",
        "def screen_to_table(wd,url,raw=False):\n",
        "\n",
        "  import pandas as pd\n",
        "  import io\n",
        "\n",
        "  for timeout in range(10,60,20):\n",
        "    try:\n",
        "      wd.set_page_load_timeout(timeout)\n",
        "      wd.implicitly_wait(timeout)  # Set a timeout of 10 seconds\n",
        "      wd.get(url)\n",
        "      break\n",
        "\n",
        "    except Exception:\n",
        "      pass\n",
        "\n",
        "  file_name = web_driver_to_image(wd)\n",
        "\n",
        "  script = f\"\"\"\n",
        "  var consoleLogs = [];\n",
        "  var originalLog = console.log;\n",
        "  console.log = function(message) {{\n",
        "      consoleLogs.push(message);\n",
        "      originalLog.apply(console, arguments);\n",
        "  }};\n",
        "\n",
        "  {script_with_logs}\n",
        "\n",
        "  return consoleLogs;\n",
        "  \"\"\"\n",
        "\n",
        "  logs = wd.execute_script(script)\n",
        "\n",
        "  if not raw:\n",
        "    df = pd.read_csv(io.StringIO(\"\\n\".join(logs)), sep=\",\")\n",
        "    draw_all_rec_on_screenshot(f\"{file_name}.png\",df)\n",
        "  else:\n",
        "    df = logs\n",
        "  #wd.close()\n",
        "  return file_name,df"
      ],
      "metadata": {
        "id": "N6sKsanHh5oQ"
      },
      "execution_count": 50,
      "outputs": []
    },
    {
      "cell_type": "code",
      "source": [
        "# wd = get_browser()\n",
        "# df = screen_to_table(wd,\"https://www.cnn.com\")"
      ],
      "metadata": {
        "id": "THJ6F81774dY"
      },
      "execution_count": 51,
      "outputs": []
    },
    {
      "cell_type": "code",
      "source": [
        "news_sites = [\n",
        "    \"https://www.n12.co.il/\",\n",
        "    \"https://www.cnn.com\",\n",
        "    \"https://www.bbc.co.uk/news\",\n",
        "    \"https://www.nytimes.com\",\n",
        "    \"https://www.aljazeera.com\",\n",
        "    \"https://www.reuters.com\",\n",
        "    \"https://www.theguardian.com\",\n",
        "    \"https://www.foxnews.com\",\n",
        "    \"https://www.nbcnews.com\",\n",
        "    \"https://www.bloomberg.com\",\n",
        "    \"https://apnews.com\",\n",
        "    \"https://www.huffpost.com\",\n",
        "    \"https://www.usatoday.com\",\n",
        "    \"https://www.washingtonpost.com\",\n",
        "    \"https://www.wsj.com\",\n",
        "    \"https://abcnews.go.com\",\n",
        "    \"https://www.buzzfeednews.com\",\n",
        "    \"https://www.cbsnews.com\",\n",
        "    \"https://www.npr.org\",\n",
        "    \"https://www.ft.com\",\n",
        "    \"https://www.independent.co.uk\",\n",
        "]"
      ],
      "metadata": {
        "id": "IVDI6R6JN30a"
      },
      "execution_count": 52,
      "outputs": []
    },
    {
      "cell_type": "code",
      "source": [
        "wd = get_browser()\n",
        "\n",
        "for url in news_sites:\n",
        "  print(f\" ---- URL = {url} ---- \")\n",
        "\n",
        "  try:\n",
        "    file_name,df = screen_to_table(wd,url)\n",
        "    csv_file_name = f\"{file_name}.csv\"\n",
        "    screenshot_file_name = f\"{file_name}.png\"\n",
        "    df.to_csv(csv_file_name)\n",
        "\n",
        "    print(f\"screenshot_file_name = {screenshot_file_name}.\")\n",
        "    print(f\"Parsing was sucsessful, csv_file_name = {csv_file_name}.\")\n",
        "  except Exception as e:\n",
        "    file_name,df = screen_to_table(wd,url,raw=True)\n",
        "    txt_file_name = f\"{file_name}.txt\"\n",
        "    write_to_text(txt_file_name,df,e)\n",
        "\n",
        "\n",
        "    print(f\"screenshot_file_name = {screenshot_file_name}.\")\n",
        "    print(f\"Parsing was un-sucsessful, txt_file_name = {txt_file_name}.\")\n",
        "\n",
        "  print(f\"please make sure all text in screenshot is explained by output file\")"
      ],
      "metadata": {
        "id": "4QaSVljj_ism",
        "outputId": "17b98bb6-7a27-472f-8801-725922c36671",
        "colab": {
          "base_uri": "https://localhost:8080/"
        }
      },
      "execution_count": null,
      "outputs": [
        {
          "output_type": "stream",
          "name": "stderr",
          "text": [
            "<ipython-input-50-e868772b01b3>:27: DeprecationWarning: headless property is deprecated, instead use add_argument('--headless') or add_argument('--headless=new')\n",
            "  chrome_options.headless = True\n"
          ]
        },
        {
          "output_type": "stream",
          "name": "stdout",
          "text": [
            " ---- URL = https://www.n12.co.il/ ---- \n",
            "screenshot_file_name = https___www_n12_co_il_.png.\n",
            "Parsing was sucsessful, csv_file_name = https___www_n12_co_il_.csv.\n",
            "please make sure all text in screenshot is explained by output file\n",
            " ---- URL = https://www.cnn.com ---- \n",
            "screenshot_file_name = https___www_cnn_com_.png.\n",
            "Parsing was sucsessful, csv_file_name = https___www_cnn_com_.csv.\n",
            "please make sure all text in screenshot is explained by output file\n",
            " ---- URL = https://www.bbc.co.uk/news ---- \n",
            "screenshot_file_name = https___www_bbc_com_news.png.\n",
            "Parsing was sucsessful, csv_file_name = https___www_bbc_com_news.csv.\n",
            "please make sure all text in screenshot is explained by output file\n",
            " ---- URL = https://www.nytimes.com ---- \n",
            "screenshot_file_name = https___www_nytimes_com_.png.\n",
            "Parsing was sucsessful, csv_file_name = https___www_nytimes_com_.csv.\n",
            "please make sure all text in screenshot is explained by output file\n",
            " ---- URL = https://www.aljazeera.com ---- \n",
            "screenshot_file_name = https___www_aljazeera_com_.png.\n",
            "Parsing was sucsessful, csv_file_name = https___www_aljazeera_com_.csv.\n",
            "please make sure all text in screenshot is explained by output file\n",
            " ---- URL = https://www.reuters.com ---- \n",
            "screenshot_file_name = https___www_reuters_com_.png.\n",
            "Parsing was sucsessful, csv_file_name = https___www_reuters_com_.csv.\n",
            "please make sure all text in screenshot is explained by output file\n",
            " ---- URL = https://www.theguardian.com ---- \n",
            "screenshot_file_name = https___www_theguardian_com_us.png.\n",
            "Parsing was sucsessful, csv_file_name = https___www_theguardian_com_us.csv.\n",
            "please make sure all text in screenshot is explained by output file\n",
            " ---- URL = https://www.foxnews.com ---- \n"
          ]
        }
      ]
    },
    {
      "cell_type": "markdown",
      "source": [
        "# Here is some issues found in manual analysis"
      ],
      "metadata": {
        "id": "a6AFlZtSA6Rs"
      }
    },
    {
      "cell_type": "code",
      "source": [
        "def describe(site):\n",
        "  from IPython.display import Image, display\n",
        "  display(Image(filename=f\"{site}.png\"))\n",
        "\n",
        "  import pandas as pd\n",
        "  return pd.read_csv(f\"{site}.csv\")"
      ],
      "metadata": {
        "id": "onDKNTj2AeJr"
      },
      "execution_count": null,
      "outputs": []
    },
    {
      "cell_type": "code",
      "source": [
        "describe(\"https___www_aljazeera_com_\")"
      ],
      "metadata": {
        "id": "TMaJkNkh__ip"
      },
      "execution_count": null,
      "outputs": []
    },
    {
      "cell_type": "markdown",
      "source": [
        "Issues to address:\n",
        " - Where is 'all bets are off'?\n",
        " - Can we add an 'z' axis? or if there is any overlay describe only the top overlay?\n"
      ],
      "metadata": {
        "id": "3cZd5rlzBIq8"
      }
    },
    {
      "cell_type": "code",
      "source": [
        "describe(\"https___www_ft_com_\")"
      ],
      "metadata": {
        "id": "2HajweqoAqIQ"
      },
      "execution_count": null,
      "outputs": []
    },
    {
      "cell_type": "markdown",
      "source": [
        "Issues:\n",
        "  - Where is the 'Accept cookies' / 'mangage cookies'?\n",
        "  - Where is the 'sign in' / 'subscribe'?"
      ],
      "metadata": {
        "id": "yS05vx7wuknt"
      }
    },
    {
      "cell_type": "code",
      "source": [
        "describe(\"https___www_nytimes_com_\")"
      ],
      "metadata": {
        "id": "NnHttWDguW3P"
      },
      "execution_count": null,
      "outputs": []
    },
    {
      "cell_type": "markdown",
      "source": [
        "Issues:\n",
        "  - Where is the text on the left of the screen?"
      ],
      "metadata": {
        "id": "PcV16XRdvMHx"
      }
    },
    {
      "cell_type": "code",
      "source": [],
      "metadata": {
        "id": "b4WtpSKuvFSe"
      },
      "execution_count": null,
      "outputs": []
    }
  ]
}