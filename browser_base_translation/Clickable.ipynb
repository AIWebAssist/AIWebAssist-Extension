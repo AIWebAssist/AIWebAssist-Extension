{
 "cells": [
  {
   "cell_type": "code",
   "execution_count": null,
   "metadata": {},
   "outputs": [],
   "source": [
    "# https://gist.github.com/iiLaurens/81b1b47f6259485c93ce6f0cdd17490a\n",
    "\"\"\"\n",
    "window.scrollTo(0, 0)\n",
    "var bodyRect = document.body.getBoundingClientRect();\n",
    "\n",
    "var items = Array.prototype.slice.call(\n",
    "  document.querySelectorAll('*')\n",
    ").map(function(element) {\n",
    "  var rect=element.getBoundingClientRect();\n",
    "  return {\n",
    "    element: element,\n",
    "    include: (element.tagName === \"BUTTON\" || element.tagName === \"A\" || (element.onclick != null) || window.getComputedStyle(element).cursor == \"pointer\"),\n",
    "    rect: {left: Math.max(rect.left - bodyRect.x, 0),\n",
    "           top: Math.max(rect.top - bodyRect.y, 0),\n",
    "           right: Math.min(rect.right - bodyRect.x, document.body.clientWidth),\n",
    "           bottom: Math.min(rect.bottom - bodyRect.y, document.body.clientHeight)},\n",
    "    text: element.textContent.trim().replace(/\\s{2,}/g, ' ')\n",
    "  };\n",
    "}).filter(item =>\n",
    "  item.include && ((item.rect.right - item.rect.left) * (item.rect.bottom - item.rect.top) >= 20));\n",
    "\n",
    "// Only keep inner clickable items\n",
    "items = items.filter(x => !items.some(y => x.element.contains(y.element) && !(x == y)))\n",
    "\n",
    "// Lets create a floating border on top of these elements that will always be visible\n",
    "items.forEach(function(item) {\n",
    "  newElement = document.createElement(\"div\");\n",
    "  newElement.style.outline = \"2px dashed rgba(255,0,0,.75)\";\n",
    "  newElement.style.position = \"absolute\";\n",
    "  newElement.style.left = item.rect.left + \"px\";\n",
    "  newElement.style.top = item.rect.top + \"px\";\n",
    "  newElement.style.width = (item.rect.right - item.rect.left) + \"px\";\n",
    "  newElement.style.height = (item.rect.bottom - item.rect.top) + \"px\";\n",
    "  newElement.style.pointerEvents = \"none\";\n",
    "  newElement.style.boxSizering = \"border-box\";\n",
    "  newElement.style.zIndex = 2147483647;\n",
    "  document.body.appendChild(newElement);\n",
    "\n",
    "\"\"\""
   ]
  }
 ],
 "metadata": {
  "language_info": {
   "name": "python"
  },
  "orig_nbformat": 4
 },
 "nbformat": 4,
 "nbformat_minor": 2
}
